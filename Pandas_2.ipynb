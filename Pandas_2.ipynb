{
 "cells": [
  {
   "cell_type": "code",
   "execution_count": 6,
   "id": "6cd4e97e-1805-49ad-af8c-a731493e7d88",
   "metadata": {},
   "outputs": [],
   "source": [
    "import pandas as pd\n",
    "import numpy as np\n",
    "import seaborn as sns"
   ]
  },
  {
   "cell_type": "markdown",
   "id": "f31c77b9-c659-4b9e-a3a8-6aa7a69979e7",
   "metadata": {
    "tags": []
   },
   "source": [
    "## 인덱스활용"
   ]
  },
  {
   "cell_type": "code",
   "execution_count": 6,
   "id": "4b2ff3c7-ae53-4425-ba7a-0bee6456b5c2",
   "metadata": {},
   "outputs": [
    {
     "name": "stdout",
     "output_type": "stream",
     "text": [
      "   이름  수학  영어   음악   체육\n",
      "0  서준  90  98   85  100\n",
      "1  우현  80  89   95   90\n",
      "2  인아  70  95  100   90\n",
      "\n",
      "\n",
      "    수학  영어   음악   체육\n",
      "이름                  \n",
      "서준  90  98   85  100\n",
      "우현  80  89   95   90\n",
      "인아  70  95  100   90\n",
      "\n",
      "\n",
      "     이름  수학  영어   체육\n",
      "음악                  \n",
      "85   서준  90  98  100\n",
      "95   우현  80  89   90\n",
      "100  인아  70  95   90\n",
      "\n",
      "\n",
      "        이름  영어   체육\n",
      "수학 음악              \n",
      "90 85   서준  98  100\n",
      "80 95   우현  89   90\n",
      "70 100  인아  95   90\n"
     ]
    }
   ],
   "source": [
    "exam_data = {'이름':['서준','우현','인아'],\n",
    "            '수학':[90,80,70], '영어':[98,89,95],\n",
    "            '음악':[85,95,100], '체육':[100,90,90]}\n",
    "df = pd.DataFrame(exam_data)\n",
    "print(df)\n",
    "print('\\n')\n",
    "\n",
    "# 특정 열을 행 인덱스로 설졍\n",
    "ndf = df.set_index(['이름'])\n",
    "print(ndf)\n",
    "print('\\n')\n",
    "\n",
    "ndf2 = df.set_index('음악')\n",
    "print(ndf2)\n",
    "print('\\n')\n",
    "\n",
    "ndf3 = df.set_index(['수학','음악'])\n",
    "print(ndf3)"
   ]
  },
  {
   "cell_type": "code",
   "execution_count": 10,
   "id": "1c49e3da-fe3d-4010-bdba-4d7fe1ea6338",
   "metadata": {},
   "outputs": [
    {
     "name": "stdout",
     "output_type": "stream",
     "text": [
      "    c0  c1  c2  c3  c4\n",
      "r0   1   4   7  10  13\n",
      "r1   2   5   8  11  14\n",
      "r2   3   6   9  12  15\n",
      "\n",
      "\n",
      "     c0   c1   c2    c3    c4\n",
      "r0  1.0  4.0  7.0  10.0  13.0\n",
      "r1  2.0  5.0  8.0  11.0  14.0\n",
      "r2  3.0  6.0  9.0  12.0  15.0\n",
      "r3  NaN  NaN  NaN   NaN   NaN\n",
      "r4  NaN  NaN  NaN   NaN   NaN\n",
      "\n",
      "\n",
      "    c0  c1  c2  c3  c4\n",
      "r0   1   4   7  10  13\n",
      "r1   2   5   8  11  14\n",
      "r2   3   6   9  12  15\n",
      "r3   0   0   0   0   0\n",
      "r4   0   0   0   0   0\n"
     ]
    }
   ],
   "source": [
    "# 행 인덱스 재배열\n",
    "\n",
    "dict_data = {'c0':[1,2,3],'c1':[4,5,6],'c2':[7,8,9],'c3':[10,11,12],'c4':[13,14,15]}\n",
    "\n",
    "df = pd.DataFrame(dict_data, index=['r0','r1','r2'])\n",
    "print(df)\n",
    "print('\\n')\n",
    "\n",
    "# 인덱스를 r0,r1,r2,r3,r4,r5 로 재지정\n",
    "new_index = ['r0','r1','r2','r3','r4']\n",
    "ndf = df.reindex(new_index)\n",
    "print(ndf)\n",
    "print('\\n')\n",
    "\n",
    "# reindex로 발생한 NaN 값을 숫자 0으로 채우기\n",
    "ndf2 = df.reindex(new_index, fill_value=0)\n",
    "print(ndf2)"
   ]
  },
  {
   "cell_type": "code",
   "execution_count": 18,
   "id": "ee89cd32-8a68-492f-8b0e-be85d444f0e9",
   "metadata": {},
   "outputs": [
    {
     "name": "stdout",
     "output_type": "stream",
     "text": [
      "    c0  c1  c2  c3  c4\n",
      "r0   1   4   7  10  13\n",
      "r1   2   5   8  11  14\n",
      "r2   3   6   9  12  15\n",
      "\n",
      "\n",
      "  index  c0  c1  c2  c3  c4\n",
      "0    r0   1   4   7  10  13\n",
      "1    r1   2   5   8  11  14\n",
      "2    r2   3   6   9  12  15\n",
      "\n",
      "\n",
      "    c0  c1  c2  c3  c4\n",
      "r2   3   6   9  12  15\n",
      "r1   2   5   8  11  14\n",
      "r0   1   4   7  10  13\n",
      "\n",
      "\n",
      "    c0  c1  c2  c3  c4\n",
      "r2   3   6   9  12  15\n",
      "r1   2   5   8  11  14\n",
      "r0   1   4   7  10  13\n"
     ]
    }
   ],
   "source": [
    "dict_data = {'c0':[1,2,3],'c1':[4,5,6],'c2':[7,8,9],'c3':[10,11,12],'c4':[13,14,15]}\n",
    "\n",
    "df = pd.DataFrame(dict_data, index=['r0','r1','r2'])\n",
    "print(df)\n",
    "print('\\n')\n",
    "\n",
    "# 행 인덱스를 정수형으로 초기화\n",
    "ndf = df.reset_index()\n",
    "print(ndf)\n",
    "print('\\n')\n",
    "\n",
    "# 행 인덱스를 기준으로 데이터프레임 정렬\n",
    "ndf2 = df.sort_index(ascending=False) #내림차순 정렬\n",
    "print(ndf2)\n",
    "print('\\n')\n",
    "\n",
    "# 특정 열의 데이터 값을 기준으로 데이터프레임 정렬\n",
    "ndf3 = df.sort_values(by='c1',ascending=False)\n",
    "print(ndf3)"
   ]
  },
  {
   "cell_type": "markdown",
   "id": "5111da75-ee99-45e7-9af9-ff8f6c9268d8",
   "metadata": {
    "tags": []
   },
   "source": [
    "## 산술연산"
   ]
  },
  {
   "cell_type": "code",
   "execution_count": 6,
   "id": "d0ac9cec-1c46-4bdd-9c7d-572e4242e1b7",
   "metadata": {},
   "outputs": [
    {
     "name": "stdout",
     "output_type": "stream",
     "text": [
      "국어    100\n",
      "영어     80\n",
      "수학     90\n",
      "dtype: int64\n",
      "\n",
      "\n",
      "국어    0.50\n",
      "영어    0.40\n",
      "수학    0.45\n",
      "dtype: float64\n",
      "<class 'pandas.core.series.Series'>\n",
      "\n",
      "\n",
      "<class 'pandas.core.series.Series'>\n",
      "\n",
      "\n",
      "              국어        수학      영어\n",
      "덧셈    190.000000   170.000   160.0\n",
      "뺄셈     10.000000    10.000     0.0\n",
      "곱셈   9000.000000  7200.000  6400.0\n",
      "나눗셈     1.111111     1.125     1.0\n"
     ]
    }
   ],
   "source": [
    "# 판다스는 같은 인덱스를 찾아 정렬한 후 같은 인덱스의 데이터 값끼리 연산한다.\n",
    "\n",
    "# 시리즈 연산\n",
    "\n",
    "student1 = pd.Series({'국어':100, '영어':80,'수학':90})\n",
    "student2 = pd.Series({'수학':80,'국어':90,'영어':80})\n",
    "print(student1)\n",
    "print('\\n')\n",
    "\n",
    "# 시리즈-숫자 연산\n",
    "percentage = student1 / 200\n",
    "\n",
    "print(percentage)\n",
    "print(type(percentage))\n",
    "print('\\n')\n",
    "\n",
    "# 시리즈-시리즈 연산\n",
    "addition = student1 + student2\n",
    "subtraction = student1 - student2\n",
    "multiplication = student1 * student2\n",
    "division = student1/student2\n",
    "print(type(division))\n",
    "print('\\n')\n",
    "\n",
    "# 사칙연산 결과를 데이터프레임으로 합치기\n",
    "result=pd.DataFrame([addition, subtraction, multiplication, division],\n",
    "                   index = ['덧셈','뺄셈','곱셈','나눗셈'])\n",
    "print(result)"
   ]
  },
  {
   "cell_type": "code",
   "execution_count": 5,
   "id": "b38cb863-560f-4611-a08a-edc0a48038af",
   "metadata": {},
   "outputs": [
    {
     "name": "stdout",
     "output_type": "stream",
     "text": [
      "<class 'pandas.core.series.Series'>\n",
      "\n",
      "\n",
      "     국어        수학  영어\n",
      "덧셈  NaN   170.000 NaN\n",
      "뺄셈  NaN    10.000 NaN\n",
      "곱셈  NaN  7200.000 NaN\n",
      "나눗셈 NaN     1.125 NaN\n"
     ]
    }
   ],
   "source": [
    "# NaN값이 있는 연산\n",
    "# 하나라도 NaN이 있으면 연산 결과는 NaN이 나옴\n",
    "\n",
    "student1 = pd.Series({'국어':np.nan, '영어':80,'수학':90})\n",
    "student2 = pd.Series({'수학':80,'국어':90})\n",
    "\n",
    "addition = student1 + student2\n",
    "subtraction = student1 - student2\n",
    "multiplication = student1 * student2\n",
    "division = student1/student2\n",
    "print(type(division))\n",
    "print('\\n')\n",
    "\n",
    "result=pd.DataFrame([addition, subtraction, multiplication, division],\n",
    "                   index = ['덧셈','뺄셈','곱셈','나눗셈'])\n",
    "print(result)"
   ]
  },
  {
   "cell_type": "code",
   "execution_count": 11,
   "id": "f104d675-afb4-42cd-8ed3-d01459f5c400",
   "metadata": {},
   "outputs": [
    {
     "name": "stdout",
     "output_type": "stream",
     "text": [
      "       국어        수학    영어\n",
      "덧셈   90.0   170.000  80.0\n",
      "뺄셈  -90.0    10.000  80.0\n",
      "곱셈    0.0  7200.000   0.0\n",
      "나눗셈   0.0     1.125   inf\n"
     ]
    }
   ],
   "source": [
    "# 연산 메소드\n",
    "\n",
    "student1 = pd.Series({'국어':np.nan, '영어':80,'수학':90})\n",
    "student2 = pd.Series({'수학':80,'국어':90})\n",
    "\n",
    "# 두 학생의 과목별 점수로 사칙연산 수행(연산 메소드 사용)\n",
    "# NaN 대신 0을 입력 > fill_vaile=0\n",
    "sr_add = student1.add(student2, fill_value=0) #덧셈\n",
    "sr_sub = student1.sub(student2, fill_value=0) #뺄셈\n",
    "sr_mul = student1.mul(student2, fill_value=0) #곱셈\n",
    "sr_div = student1.div(student2, fill_value=0) #나눗셈\n",
    "\n",
    "result=pd.DataFrame([sr_add, sr_sub, sr_mul, sr_div],\n",
    "                   index = ['덧셈','뺄셈','곱셈','나눗셈'])\n",
    "print(result)"
   ]
  },
  {
   "cell_type": "code",
   "execution_count": 16,
   "id": "1026ac01-ee30-4ff9-8709-82de99c0611f",
   "metadata": {},
   "outputs": [
    {
     "name": "stdout",
     "output_type": "stream",
     "text": [
      "    age     fare\n",
      "0  22.0   7.2500\n",
      "1  38.0  71.2833\n",
      "2  26.0   7.9250\n",
      "3  35.0  53.1000\n",
      "4  35.0   8.0500\n",
      "<class 'pandas.core.frame.DataFrame'>\n",
      "\n",
      "\n",
      "    age     fare\n",
      "0  32.0  17.2500\n",
      "1  48.0  81.2833\n",
      "2  36.0  17.9250\n",
      "3  45.0  63.1000\n",
      "4  45.0  18.0500\n",
      "<class 'pandas.core.frame.DataFrame'>\n",
      "      age  fare\n",
      "886  10.0  10.0\n",
      "887  10.0  10.0\n",
      "888   NaN  10.0\n",
      "889  10.0  10.0\n",
      "890  10.0  10.0\n",
      "<class 'pandas.core.frame.DataFrame'>\n"
     ]
    }
   ],
   "source": [
    "# 데이터프레임 연산\n",
    "\n",
    "titanic = sns.load_dataset('titanic')\n",
    "df = titanic.loc[:,['age','fare']]\n",
    "print(df.head())\n",
    "print(type(df))\n",
    "print('\\n')\n",
    "\n",
    "# 데이터프레임-숫자 연산\n",
    "addition = df + 10\n",
    "print(addition.head())\n",
    "print(type(addition))\n",
    "\n",
    "# 데이터프레임-데이터프레임 연산\n",
    "subtraction = addition - df\n",
    "print(subtraction.tail()) #마지막 5행 표시\n",
    "print(type(subtraction))"
   ]
  }
 ],
 "metadata": {
  "kernelspec": {
   "display_name": "Python 3 (ipykernel)",
   "language": "python",
   "name": "python3"
  },
  "language_info": {
   "codemirror_mode": {
    "name": "ipython",
    "version": 3
   },
   "file_extension": ".py",
   "mimetype": "text/x-python",
   "name": "python",
   "nbconvert_exporter": "python",
   "pygments_lexer": "ipython3",
   "version": "3.10.8"
  }
 },
 "nbformat": 4,
 "nbformat_minor": 5
}

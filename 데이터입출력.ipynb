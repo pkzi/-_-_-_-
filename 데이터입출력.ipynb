{
 "cells": [
  {
   "cell_type": "code",
   "execution_count": 2,
   "id": "06c807a4-414f-4e5f-bde0-e74eeb879ef0",
   "metadata": {},
   "outputs": [],
   "source": [
    "import pandas as pd"
   ]
  },
  {
   "cell_type": "markdown",
   "id": "0cec50de-3fa9-44dc-aa54-281bd3a3628a",
   "metadata": {},
   "source": [
    "## 외부 파일 읽어오기"
   ]
  },
  {
   "cell_type": "code",
   "execution_count": 1,
   "id": "092b6543-185b-4a27-b425-9e9d6db13af8",
   "metadata": {},
   "outputs": [
    {
     "ename": "NameError",
     "evalue": "name 'pd' is not defined",
     "output_type": "error",
     "traceback": [
      "\u001b[1;31m---------------------------------------------------------------------------\u001b[0m",
      "\u001b[1;31mNameError\u001b[0m                                 Traceback (most recent call last)",
      "Cell \u001b[1;32mIn[1], line 9\u001b[0m\n\u001b[0;32m      6\u001b[0m file_path \u001b[38;5;241m=\u001b[39m \u001b[38;5;124m'\u001b[39m\u001b[38;5;124m./read_csv_sample.csv\u001b[39m\u001b[38;5;124m'\u001b[39m\n\u001b[0;32m      8\u001b[0m \u001b[38;5;66;03m# read_csv() 함수로 데이터프레임 변환\u001b[39;00m\n\u001b[1;32m----> 9\u001b[0m df1 \u001b[38;5;241m=\u001b[39m \u001b[43mpd\u001b[49m\u001b[38;5;241m.\u001b[39mread_csv(file_path)\n\u001b[0;32m     10\u001b[0m \u001b[38;5;28mprint\u001b[39m(df1)\n\u001b[0;32m     11\u001b[0m \u001b[38;5;28mprint\u001b[39m(\u001b[38;5;124m'\u001b[39m\u001b[38;5;130;01m\\n\u001b[39;00m\u001b[38;5;124m'\u001b[39m)\n",
      "\u001b[1;31mNameError\u001b[0m: name 'pd' is not defined"
     ]
    }
   ],
   "source": [
    "# CSV 파일 : 쉼표로 열을 구분하고 줄바꿈으로 행을 구분\n",
    "# header : 열 이름이 되는 행을 지정\n",
    "# index_col : 행 인덱스가 되는 열을 지정\n",
    "\n",
    "# 파일 경로를 찾고, 변수에 저장\n",
    "file_path = './read_csv_sample.csv'\n",
    "\n",
    "# read_csv() 함수로 데이터프레임 변환\n",
    "df1 = pd.read_csv(file_path)\n",
    "print(df1)\n",
    "print('\\n')\n",
    "\n",
    "# header=None 옵션\n",
    "df2 = pd.read_csv(file_path, header=None)\n",
    "print(df2)\n",
    "print('\\n')\n",
    "\n",
    "# index_col=None 옵션\n",
    "df3 = pd.read_csv(file_path, index_col=None)\n",
    "print(df3)\n",
    "print('\\n')\n",
    "\n",
    "# index_col=c0 옵션\n",
    "df4 = pd.read_csv(file_path, index_col='c0')\n",
    "print(df4)"
   ]
  },
  {
   "cell_type": "code",
   "execution_count": 4,
   "id": "b42a206f-17e6-4570-a603-218b0096baca",
   "metadata": {},
   "outputs": [
    {
     "name": "stdout",
     "output_type": "stream",
     "text": [
      "  전력량 (억㎾h) 발전 전력별  1990  1991  1992  1993  1994  1995  1996  1997  ...  2007  \\\n",
      "0        남한     합계  1077  1186  1310  1444  1650  1847  2055  2244  ...  4031   \n",
      "1       NaN     수력    64    51    49    60    41    55    52    54  ...    50   \n",
      "2       NaN     화력   484   573   696   803  1022  1122  1264  1420  ...  2551   \n",
      "3       NaN    원자력   529   563   565   581   587   670   739   771  ...  1429   \n",
      "4       NaN    신재생     -     -     -     -     -     -     -     -  ...     -   \n",
      "5        북한     합계   277   263   247   221   231   230   213   193  ...   236   \n",
      "6       NaN     수력   156   150   142   133   138   142   125   107  ...   133   \n",
      "7       NaN     화력   121   113   105    88    93    88    88    86  ...   103   \n",
      "8       NaN    원자력     -     -     -     -     -     -     -     -  ...     -   \n",
      "\n",
      "   2008  2009  2010  2011  2012  2013  2014  2015  2016  \n",
      "0  4224  4336  4747  4969  5096  5171  5220  5281  5404  \n",
      "1    56    56    65    78    77    84    78    58    66  \n",
      "2  2658  2802  3196  3343  3430  3581  3427  3402  3523  \n",
      "3  1510  1478  1486  1547  1503  1388  1564  1648  1620  \n",
      "4     -     -     -     -    86   118   151   173   195  \n",
      "5   255   235   237   211   215   221   216   190   239  \n",
      "6   141   125   134   132   135   139   130   100   128  \n",
      "7   114   110   103    79    80    82    86    90   111  \n",
      "8     -     -     -     -     -     -     -     -     -  \n",
      "\n",
      "[9 rows x 29 columns]\n",
      "\n",
      "\n",
      "          0       1     2     3     4     5     6     7     8     9   ...  \\\n",
      "0  전력량 (억㎾h)  발전 전력별  1990  1991  1992  1993  1994  1995  1996  1997  ...   \n",
      "1         남한      합계  1077  1186  1310  1444  1650  1847  2055  2244  ...   \n",
      "2        NaN      수력    64    51    49    60    41    55    52    54  ...   \n",
      "3        NaN      화력   484   573   696   803  1022  1122  1264  1420  ...   \n",
      "4        NaN     원자력   529   563   565   581   587   670   739   771  ...   \n",
      "5        NaN     신재생     -     -     -     -     -     -     -     -  ...   \n",
      "6         북한      합계   277   263   247   221   231   230   213   193  ...   \n",
      "7        NaN      수력   156   150   142   133   138   142   125   107  ...   \n",
      "8        NaN      화력   121   113   105    88    93    88    88    86  ...   \n",
      "9        NaN     원자력     -     -     -     -     -     -     -     -  ...   \n",
      "\n",
      "     19    20    21    22    23    24    25    26    27    28  \n",
      "0  2007  2008  2009  2010  2011  2012  2013  2014  2015  2016  \n",
      "1  4031  4224  4336  4747  4969  5096  5171  5220  5281  5404  \n",
      "2    50    56    56    65    78    77    84    78    58    66  \n",
      "3  2551  2658  2802  3196  3343  3430  3581  3427  3402  3523  \n",
      "4  1429  1510  1478  1486  1547  1503  1388  1564  1648  1620  \n",
      "5     -     -     -     -     -    86   118   151   173   195  \n",
      "6   236   255   235   237   211   215   221   216   190   239  \n",
      "7   133   141   125   134   132   135   139   130   100   128  \n",
      "8   103   114   110   103    79    80    82    86    90   111  \n",
      "9     -     -     -     -     -     -     -     -     -     -  \n",
      "\n",
      "[10 rows x 29 columns]\n"
     ]
    }
   ],
   "source": [
    "# 엑셀 파일\n",
    "\n",
    "df1 = pd.read_excel('./남북한발전전력량.xlsx') #header=0(default 옵션)\n",
    "df2 = pd.read_excel('./남북한발전전력량.xlsx', header=None) #header=None 옵션\n",
    "\n",
    "print(df1)\n",
    "print('\\n')\n",
    "print(df2)"
   ]
  },
  {
   "cell_type": "code",
   "execution_count": 5,
   "id": "e1fe69ef-e495-4d89-bf91-ba9e3e8bdea2",
   "metadata": {},
   "outputs": [
    {
     "name": "stdout",
     "output_type": "stream",
     "text": [
      "           name  year        developer opensource\n",
      "pandas           2008    Wes Mckinneye       True\n",
      "NumPy            2006  Travis Oliphant       True\n",
      "matplotlib       2003   John D. Hunter       True\n",
      "\n",
      "\n",
      "Index(['pandas', 'NumPy', 'matplotlib'], dtype='object')\n"
     ]
    }
   ],
   "source": [
    "# JSON 파일 : key:value 구조를 가짐(파이썬 딕셔너리와 유사)\n",
    "\n",
    "df = pd.read_json('./read_json_sample.json')\n",
    "print(df)\n",
    "print('\\n')\n",
    "print(df.index)"
   ]
  },
  {
   "cell_type": "markdown",
   "id": "e12c562e-41fa-4e99-9061-d09b0338f3fb",
   "metadata": {},
   "source": [
    "## 웹(web)에서 가져오기"
   ]
  },
  {
   "cell_type": "code",
   "execution_count": 8,
   "id": "e6816744-7862-48a1-ad6e-e03c52eca9ce",
   "metadata": {},
   "outputs": [
    {
     "name": "stdout",
     "output_type": "stream",
     "text": [
      "2\n",
      "\n",
      "\n",
      "tables[0]\n",
      "   Unnamed: 0  c0  c1  c2  c3\n",
      "0           0   0   1   4   7\n",
      "1           1   1   2   5   8\n",
      "2           2   2   3   6   9\n",
      "\n",
      "\n",
      "tables[1]\n",
      "         name  year        developer  opensource\n",
      "0       NumPy  2006  Travis Oliphant        True\n",
      "1  matplotlib  2003   John D. Hunter        True\n",
      "2      pandas  2008    Wes Mckinneye        True\n",
      "\n",
      "\n",
      "            year        developer  opensource\n",
      "name                                         \n",
      "NumPy       2006  Travis Oliphant        True\n",
      "matplotlib  2003   John D. Hunter        True\n",
      "pandas      2008    Wes Mckinneye        True\n"
     ]
    }
   ],
   "source": [
    "# HTML 웹 페이지에서 표 속성 가져오기\n",
    "\n",
    "url = './sample.html'\n",
    "tables = pd.read_html(url)\n",
    "\n",
    "print(len(tables)) #표(table)의 개수 확인\n",
    "print('\\n')\n",
    "\n",
    "# tables 리스트의 원소를 iteration하면서 각각 화면 출력\n",
    "for i in range(len(tables)):\n",
    "    print(\"tables[%s]\" % i)\n",
    "    print(tables[i])\n",
    "    print('\\n')\n",
    "\n",
    "df = tables[1]\n",
    "\n",
    "df.set_index(['name'],inplace=True)\n",
    "print(df)"
   ]
  },
  {
   "cell_type": "code",
   "execution_count": 9,
   "id": "da27c0a8-a02b-420e-96c6-fd8300e40e44",
   "metadata": {},
   "outputs": [
    {
     "name": "stdout",
     "output_type": "stream",
     "text": [
      "Create account\n",
      "{}\n",
      "\n",
      "\n",
      "Empty DataFrame\n",
      "Columns: []\n",
      "Index: []\n"
     ]
    }
   ],
   "source": [
    "# 웹 스크래핑\n",
    "\n",
    "from bs4 import BeautifulSoup\n",
    "import requests\n",
    "import re\n",
    "\n",
    "# 위키피디아 미국 ETF 웹 페이지에서 필요한 정보를 스크래핑하여 딕셔너리 형태로 변수 efts에 저장\n",
    "url = \"https://en.wikipedia.org/wiki/List_of_American_exchange-traded_funds\"\n",
    "resp = requests.get(url) #url에 대한 정보가 resp에 담기게 됨\n",
    "soup = BeautifulSoup(resp.text, 'lxml') #html넣어주고,그 html를 분석할 parser를 지정 \n",
    "rows = soup.select('div > ul > li') #select: soup안에 있는 테그에 접근하는 방법\n",
    "\n",
    "print(rows[0].text) #> 하나만 가져오는 방법\n",
    "\n",
    "etfs = {}\n",
    "for row in rows:\n",
    "    \n",
    "    try:\n",
    "        etf_name = re.findall('^(.*) \\(NYSE', row.text)\n",
    "        etf_market = re.findall('\\((.*)\\|', row.text)\n",
    "        etf_ticker = re.findall('NYSE Arca\\|(.*)\\)', row.text)\n",
    "        \n",
    "        if (len(etf_ticker) > 0) & (len(etf_market) > 0):\n",
    "            etfs[etf_ticker[0]] = [etf_market[0], etf_name[0]] # 딕셔너리로 정의하는 방법\n",
    "            \n",
    "    except AttributeError as err:\n",
    "        pass\n",
    "    \n",
    "# etfs 딕셔너리 출력\n",
    "print(etfs)\n",
    "print('\\n')\n",
    "\n",
    "df = pd.DataFrame(etfs)\n",
    "print(df)"
   ]
  },
  {
   "cell_type": "code",
   "execution_count": 2,
   "id": "66fad43a-a05d-4520-9daf-fd26b2d32dd1",
   "metadata": {},
   "outputs": [
    {
     "data": {
      "text/plain": [
       "'\\n\\nimport googlemaps\\n my_key = \"--발급받은 API 키 입력---\"\\n    \\n# 구글맵스 객체 생성하기\\nmaps = googlemaps.Client(key=my_key) # my_key \\n\\nlat = []\\nlng = []\\n\\n# 장소(또는 주소) 리스트\\nplaces = [\"서울시청\",\"국립국악원\",\"해운대해수욕장\"]\\n\\ni=0\\nfor place in places:\\n    i = i + 1\\n    try:\\n        print(i, place)\\n        # 지오코딩 API 결과값 호출하여 geo_location 변수에 저장\\n        geo_location = maps.geocode(place)[0].get(\\'geometry\\')\\n        lat.append(geo_location[\\'location\\'][\\'lat\\'])\\n        lat.append(geo_location[\\'location\\'][\\'lng\\'])\\n        \\n    except:\\n        lat.append(\\'\\')\\n        lng.append(\\'\\')\\n        print(i)\\n        \\n# 데이터프레임으로 변환하기\\ndf = pd.DataFrame({\\'위도\\':lat, \\'경도\\':lng}, index=places)\\nprint(df)\\n\\n'"
      ]
     },
     "execution_count": 2,
     "metadata": {},
     "output_type": "execute_result"
    }
   ],
   "source": [
    "# API 활용하여 데이터 수집하기 > google cloud 무료판 사용 끝나서 못하게됨\n",
    "\n",
    "'''\n",
    "\n",
    "import googlemaps\n",
    " my_key = \"--발급받은 API 키 입력---\"\n",
    "    \n",
    "# 구글맵스 객체 생성하기\n",
    "maps = googlemaps.Client(key=my_key) # my_key \n",
    "\n",
    "lat = []\n",
    "lng = []\n",
    "\n",
    "# 장소(또는 주소) 리스트\n",
    "places = [\"서울시청\",\"국립국악원\",\"해운대해수욕장\"]\n",
    "\n",
    "i=0\n",
    "for place in places:\n",
    "    i = i + 1\n",
    "    try:\n",
    "        print(i, place)\n",
    "        # 지오코딩 API 결과값 호출하여 geo_location 변수에 저장\n",
    "        geo_location = maps.geocode(place)[0].get('geometry')\n",
    "        lat.append(geo_location['location']['lat'])\n",
    "        lat.append(geo_location['location']['lng'])\n",
    "        \n",
    "    except:\n",
    "        lat.append('')\n",
    "        lng.append('')\n",
    "        print(i)\n",
    "        \n",
    "# 데이터프레임으로 변환하기\n",
    "df = pd.DataFrame({'위도':lat, '경도':lng}, index=places)\n",
    "print(df)\n",
    "\n",
    "'''"
   ]
  },
  {
   "cell_type": "markdown",
   "id": "5ceef64d-718d-4ccd-b99d-b36498b96a80",
   "metadata": {},
   "source": [
    "## 데이터 저장히기"
   ]
  },
  {
   "cell_type": "code",
   "execution_count": 4,
   "id": "a973328d-b1b9-41fa-be92-3954e3fcdcf8",
   "metadata": {},
   "outputs": [
    {
     "name": "stdout",
     "output_type": "stream",
     "text": [
      "      algol basic C++\n",
      "name                 \n",
      "Jerry     A     C  B+\n",
      "Riah     A+     B   C\n",
      "Paul      B    B+  C+\n"
     ]
    }
   ],
   "source": [
    "# CSV 파일로 저장\n",
    "\n",
    "data = {'name':['Jerry','Riah','Paul'],\n",
    "       'algol':[\"A\",\"A+\",\"B\"],\n",
    "       'basic':[\"C\",\"B\",\"B+\"],\n",
    "       'C++':[\"B+\",\"C\",\"C+\"]}\n",
    "\n",
    "df = pd.DataFrame(data)\n",
    "df.set_index('name',inplace=True)\n",
    "print(df)\n",
    "\n",
    "# to_csv() 메소드를 사용하여 CSV 파일로 내보내기. 파일명은 df_sample.csv로 저장\n",
    "df.to_csv(\"./df_sample.csv\")"
   ]
  },
  {
   "cell_type": "code",
   "execution_count": 11,
   "id": "437f8284-54e9-47f3-90f0-16ce99c9330d",
   "metadata": {},
   "outputs": [],
   "source": [
    "# JSON 파일로 저장\n",
    "\n",
    "data = {'name':['Jerry','Riah','Paul'],\n",
    "       'algol':[\"A\",\"A+\",\"B\"],\n",
    "       'basic':[\"C\",\"B\",\"B+\"],\n",
    "       'C++':[\"B+\",\"C\",\"C+\"]}\n",
    "\n",
    "df = pd.DataFrame(data)\n",
    "df.set_index('name',inplace=True)\n",
    "\n",
    "df.to_json(\"./df_sample.json\")"
   ]
  },
  {
   "cell_type": "code",
   "execution_count": 6,
   "id": "4dbccdb6-3a12-419e-a171-c0bd667f1f55",
   "metadata": {},
   "outputs": [],
   "source": [
    "# Excel 파일로 저장\n",
    "\n",
    "data = {'name':['Jerry','Riah','Paul'],\n",
    "       'algol':[\"A\",\"A+\",\"B\"],\n",
    "       'basic':[\"C\",\"B\",\"B+\"],\n",
    "       'C++':[\"B+\",\"C\",\"C+\"]}\n",
    "\n",
    "df = pd.DataFrame(data)\n",
    "df.set_index('name',inplace=True)\n",
    "\n",
    "df.to_excel(\"./df_sample.xlsx\")"
   ]
  },
  {
   "cell_type": "code",
   "execution_count": 9,
   "id": "d8e086b7-2e3c-42ed-8029-fd44af15cfed",
   "metadata": {},
   "outputs": [
    {
     "name": "stdout",
     "output_type": "stream",
     "text": [
      "      algol basic C++\n",
      "name                 \n",
      "Jerry     A     C  B+\n",
      "Riah     A+     B   C\n",
      "Paul      B    B+  C+\n",
      "\n",
      "\n",
      "    c1  c2  c3  c4\n",
      "c0                \n",
      "1    4   7  10  13\n",
      "2    5   8  11  14\n",
      "3    6   9  12  15\n",
      "\n",
      "\n"
     ]
    },
    {
     "name": "stderr",
     "output_type": "stream",
     "text": [
      "C:\\Users\\user\\AppData\\Local\\Temp\\ipykernel_18420\\2548749256.py:23: FutureWarning: save is not part of the public API, usage can give unexpected results and will be removed in a future version\n",
      "  writer.save()\n"
     ]
    }
   ],
   "source": [
    "# 여러 개의 데이터프레임을 하나의 Excel 파일로 저장\n",
    "\n",
    "data1 = {'name':['Jerry','Riah','Paul'],\n",
    "       'algol':[\"A\",\"A+\",\"B\"],\n",
    "       'basic':[\"C\",\"B\",\"B+\"],\n",
    "       'C++':[\"B+\",\"C\",\"C+\"]}\n",
    "data2 = {'c0':[1,2,3],'c1':[4,5,6],'c2':[7,8,9],'c3':[10,11,12],'c4':[13,14,15]}\n",
    "\n",
    "df1 = pd.DataFrame(data1)\n",
    "df1.set_index('name',inplace=True)\n",
    "print(df1)\n",
    "print('\\n')\n",
    "\n",
    "df2 = pd.DataFrame(data2)\n",
    "df2.set_index('c0',inplace=True)\n",
    "print(df2)\n",
    "print('\\n')\n",
    "\n",
    "# df1은 sheet1에 삽입, df2는 sheet2에 삽입\n",
    "writer = pd.ExcelWriter(\"./df_excelwriter.xlsx\")\n",
    "df1.to_excel(writer, sheet_name=\"sheet1\")\n",
    "df2.to_excel(writer, sheet_name=\"sheet2\")\n",
    "writer.save()"
   ]
  }
 ],
 "metadata": {
  "kernelspec": {
   "display_name": "Python 3 (ipykernel)",
   "language": "python",
   "name": "python3"
  },
  "language_info": {
   "codemirror_mode": {
    "name": "ipython",
    "version": 3
   },
   "file_extension": ".py",
   "mimetype": "text/x-python",
   "name": "python",
   "nbconvert_exporter": "python",
   "pygments_lexer": "ipython3",
   "version": "3.10.8"
  }
 },
 "nbformat": 4,
 "nbformat_minor": 5
}
